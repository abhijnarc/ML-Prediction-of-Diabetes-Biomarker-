{
 "cells": [
  {
   "cell_type": "code",
   "execution_count": 2,
   "metadata": {},
   "outputs": [
    {
     "name": "stderr",
     "output_type": "stream",
     "text": [
      "C:\\Users\\user\\AppData\\Local\\Temp\\ipykernel_16612\\3070330209.py:2: DeprecationWarning: \n",
      "Pyarrow will become a required dependency of pandas in the next major release of pandas (pandas 3.0),\n",
      "(to allow more performant data types, such as the Arrow string type, and better interoperability with other libraries)\n",
      "but was not found to be installed on your system.\n",
      "If this would cause problems for you,\n",
      "please provide us feedback at https://github.com/pandas-dev/pandas/issues/54466\n",
      "        \n",
      "  import pandas as pd\n"
     ]
    }
   ],
   "source": [
    "#Load libraries\n",
    "import pandas as pd\n",
    "import numpy as np\n",
    "from sklearn.decomposition import PCA\n",
    "from sklearn.preprocessing import StandardScaler\n",
    "from sklearn.manifold import TSNE\n",
    "from sklearn.model_selection import train_test_split\n",
    "from sklearn.metrics import confusion_matrix\n",
    "from sklearn.metrics import precision_score, recall_score, f1_score, accuracy_score\n",
    "from sklearn.metrics import roc_auc_score, roc_curve\n",
    "import xgboost as xgb\n",
    "\n",
    "import matplotlib.pyplot as plt\n",
    "import seaborn as sns"
   ]
  },
  {
   "cell_type": "code",
   "execution_count": 3,
   "metadata": {},
   "outputs": [],
   "source": [
    "counts = pd.read_csv('C:/Users/user/Downloads/2117ensemble.csv')"
   ]
  },
  {
   "cell_type": "code",
   "execution_count": 4,
   "metadata": {},
   "outputs": [],
   "source": [
    "counts = counts.transpose()\n",
    "counts.columns = counts.iloc[0] \n",
    "counts = counts.drop(counts.index[0])\n",
    "counts = counts.astype(float)"
   ]
  },
  {
   "cell_type": "code",
   "execution_count": 15,
   "metadata": {},
   "outputs": [
    {
     "data": {
      "text/html": [
       "<div>\n",
       "<style scoped>\n",
       "    .dataframe tbody tr th:only-of-type {\n",
       "        vertical-align: middle;\n",
       "    }\n",
       "\n",
       "    .dataframe tbody tr th {\n",
       "        vertical-align: top;\n",
       "    }\n",
       "\n",
       "    .dataframe thead th {\n",
       "        text-align: right;\n",
       "    }\n",
       "</style>\n",
       "<table border=\"1\" class=\"dataframe\">\n",
       "  <thead>\n",
       "    <tr style=\"text-align: right;\">\n",
       "      <th>Tags</th>\n",
       "      <th>ENSG00000227232</th>\n",
       "      <th>ENSG00000279457</th>\n",
       "      <th>ENSG00000228463</th>\n",
       "      <th>ENSG00000225630</th>\n",
       "      <th>ENSG00000237973</th>\n",
       "      <th>ENSG00000248527</th>\n",
       "      <th>ENSG00000228327</th>\n",
       "      <th>ENSG00000237491</th>\n",
       "      <th>ENSG00000230092</th>\n",
       "      <th>ENSG00000177757</th>\n",
       "      <th>...</th>\n",
       "      <th>ENSG00000198727</th>\n",
       "      <th>ENSG00000210196</th>\n",
       "      <th>ENSG00000277400</th>\n",
       "      <th>ENSG00000276256</th>\n",
       "      <th>ENSG00000273748</th>\n",
       "      <th>ENSG00000278817</th>\n",
       "      <th>ENSG00000278384</th>\n",
       "      <th>ENSG00000276345</th>\n",
       "      <th>ENSG00000271254</th>\n",
       "      <th>ENSG00000275405</th>\n",
       "    </tr>\n",
       "  </thead>\n",
       "  <tbody>\n",
       "    <tr>\n",
       "      <th>T2D_CTL_12h_i05</th>\n",
       "      <td>17.0</td>\n",
       "      <td>49.0</td>\n",
       "      <td>9.0</td>\n",
       "      <td>4.0</td>\n",
       "      <td>40.0</td>\n",
       "      <td>57.0</td>\n",
       "      <td>14.0</td>\n",
       "      <td>26.0</td>\n",
       "      <td>6.0</td>\n",
       "      <td>48.0</td>\n",
       "      <td>...</td>\n",
       "      <td>827.0</td>\n",
       "      <td>1044.0</td>\n",
       "      <td>4.0</td>\n",
       "      <td>262.0</td>\n",
       "      <td>147.0</td>\n",
       "      <td>45.0</td>\n",
       "      <td>26.0</td>\n",
       "      <td>54.0</td>\n",
       "      <td>446.0</td>\n",
       "      <td>20.0</td>\n",
       "    </tr>\n",
       "    <tr>\n",
       "      <th>T2D_CTL_18h_i05</th>\n",
       "      <td>11.0</td>\n",
       "      <td>21.0</td>\n",
       "      <td>7.0</td>\n",
       "      <td>4.0</td>\n",
       "      <td>27.0</td>\n",
       "      <td>66.0</td>\n",
       "      <td>5.0</td>\n",
       "      <td>7.0</td>\n",
       "      <td>10.0</td>\n",
       "      <td>26.0</td>\n",
       "      <td>...</td>\n",
       "      <td>715.0</td>\n",
       "      <td>697.0</td>\n",
       "      <td>3.0</td>\n",
       "      <td>99.0</td>\n",
       "      <td>51.0</td>\n",
       "      <td>29.0</td>\n",
       "      <td>9.0</td>\n",
       "      <td>24.0</td>\n",
       "      <td>174.0</td>\n",
       "      <td>13.0</td>\n",
       "    </tr>\n",
       "    <tr>\n",
       "      <th>T2D_CTL_24h_i05</th>\n",
       "      <td>13.0</td>\n",
       "      <td>25.0</td>\n",
       "      <td>3.0</td>\n",
       "      <td>7.0</td>\n",
       "      <td>38.0</td>\n",
       "      <td>60.0</td>\n",
       "      <td>13.0</td>\n",
       "      <td>26.0</td>\n",
       "      <td>2.0</td>\n",
       "      <td>27.0</td>\n",
       "      <td>...</td>\n",
       "      <td>798.0</td>\n",
       "      <td>780.0</td>\n",
       "      <td>1.0</td>\n",
       "      <td>151.0</td>\n",
       "      <td>66.0</td>\n",
       "      <td>24.0</td>\n",
       "      <td>22.0</td>\n",
       "      <td>15.0</td>\n",
       "      <td>264.0</td>\n",
       "      <td>8.0</td>\n",
       "    </tr>\n",
       "    <tr>\n",
       "      <th>T2D_CTL_30h_i05</th>\n",
       "      <td>28.0</td>\n",
       "      <td>42.0</td>\n",
       "      <td>11.0</td>\n",
       "      <td>12.0</td>\n",
       "      <td>48.0</td>\n",
       "      <td>76.0</td>\n",
       "      <td>29.0</td>\n",
       "      <td>17.0</td>\n",
       "      <td>8.0</td>\n",
       "      <td>66.0</td>\n",
       "      <td>...</td>\n",
       "      <td>985.0</td>\n",
       "      <td>1003.0</td>\n",
       "      <td>7.0</td>\n",
       "      <td>205.0</td>\n",
       "      <td>113.0</td>\n",
       "      <td>60.0</td>\n",
       "      <td>28.0</td>\n",
       "      <td>37.0</td>\n",
       "      <td>469.0</td>\n",
       "      <td>19.0</td>\n",
       "    </tr>\n",
       "    <tr>\n",
       "      <th>T2D_CTL_36h_i05</th>\n",
       "      <td>28.0</td>\n",
       "      <td>43.0</td>\n",
       "      <td>10.0</td>\n",
       "      <td>1.0</td>\n",
       "      <td>25.0</td>\n",
       "      <td>41.0</td>\n",
       "      <td>18.0</td>\n",
       "      <td>16.0</td>\n",
       "      <td>7.0</td>\n",
       "      <td>60.0</td>\n",
       "      <td>...</td>\n",
       "      <td>761.0</td>\n",
       "      <td>799.0</td>\n",
       "      <td>3.0</td>\n",
       "      <td>127.0</td>\n",
       "      <td>106.0</td>\n",
       "      <td>31.0</td>\n",
       "      <td>14.0</td>\n",
       "      <td>21.0</td>\n",
       "      <td>367.0</td>\n",
       "      <td>4.0</td>\n",
       "    </tr>\n",
       "  </tbody>\n",
       "</table>\n",
       "<p>5 rows × 18482 columns</p>\n",
       "</div>"
      ],
      "text/plain": [
       "Tags             ENSG00000227232  ENSG00000279457  ENSG00000228463  \\\n",
       "T2D_CTL_12h_i05             17.0             49.0              9.0   \n",
       "T2D_CTL_18h_i05             11.0             21.0              7.0   \n",
       "T2D_CTL_24h_i05             13.0             25.0              3.0   \n",
       "T2D_CTL_30h_i05             28.0             42.0             11.0   \n",
       "T2D_CTL_36h_i05             28.0             43.0             10.0   \n",
       "\n",
       "Tags             ENSG00000225630  ENSG00000237973  ENSG00000248527  \\\n",
       "T2D_CTL_12h_i05              4.0             40.0             57.0   \n",
       "T2D_CTL_18h_i05              4.0             27.0             66.0   \n",
       "T2D_CTL_24h_i05              7.0             38.0             60.0   \n",
       "T2D_CTL_30h_i05             12.0             48.0             76.0   \n",
       "T2D_CTL_36h_i05              1.0             25.0             41.0   \n",
       "\n",
       "Tags             ENSG00000228327  ENSG00000237491  ENSG00000230092  \\\n",
       "T2D_CTL_12h_i05             14.0             26.0              6.0   \n",
       "T2D_CTL_18h_i05              5.0              7.0             10.0   \n",
       "T2D_CTL_24h_i05             13.0             26.0              2.0   \n",
       "T2D_CTL_30h_i05             29.0             17.0              8.0   \n",
       "T2D_CTL_36h_i05             18.0             16.0              7.0   \n",
       "\n",
       "Tags             ENSG00000177757  ...  ENSG00000198727  ENSG00000210196  \\\n",
       "T2D_CTL_12h_i05             48.0  ...            827.0           1044.0   \n",
       "T2D_CTL_18h_i05             26.0  ...            715.0            697.0   \n",
       "T2D_CTL_24h_i05             27.0  ...            798.0            780.0   \n",
       "T2D_CTL_30h_i05             66.0  ...            985.0           1003.0   \n",
       "T2D_CTL_36h_i05             60.0  ...            761.0            799.0   \n",
       "\n",
       "Tags             ENSG00000277400  ENSG00000276256  ENSG00000273748  \\\n",
       "T2D_CTL_12h_i05              4.0            262.0            147.0   \n",
       "T2D_CTL_18h_i05              3.0             99.0             51.0   \n",
       "T2D_CTL_24h_i05              1.0            151.0             66.0   \n",
       "T2D_CTL_30h_i05              7.0            205.0            113.0   \n",
       "T2D_CTL_36h_i05              3.0            127.0            106.0   \n",
       "\n",
       "Tags             ENSG00000278817  ENSG00000278384  ENSG00000276345  \\\n",
       "T2D_CTL_12h_i05             45.0             26.0             54.0   \n",
       "T2D_CTL_18h_i05             29.0              9.0             24.0   \n",
       "T2D_CTL_24h_i05             24.0             22.0             15.0   \n",
       "T2D_CTL_30h_i05             60.0             28.0             37.0   \n",
       "T2D_CTL_36h_i05             31.0             14.0             21.0   \n",
       "\n",
       "Tags             ENSG00000271254  ENSG00000275405  \n",
       "T2D_CTL_12h_i05            446.0             20.0  \n",
       "T2D_CTL_18h_i05            174.0             13.0  \n",
       "T2D_CTL_24h_i05            264.0              8.0  \n",
       "T2D_CTL_30h_i05            469.0             19.0  \n",
       "T2D_CTL_36h_i05            367.0              4.0  \n",
       "\n",
       "[5 rows x 18482 columns]"
      ]
     },
     "execution_count": 15,
     "metadata": {},
     "output_type": "execute_result"
    }
   ],
   "source": [
    "counts.head()"
   ]
  },
  {
   "cell_type": "code",
   "execution_count": 5,
   "metadata": {},
   "outputs": [],
   "source": [
    "sample = pd.read_csv('c:/Users/user/Downloads/clin2117.csv')"
   ]
  },
  {
   "cell_type": "code",
   "execution_count": 6,
   "metadata": {},
   "outputs": [],
   "source": [
    "from sklearn.preprocessing import LabelEncoder\n",
    "\n",
    "labelencoder = LabelEncoder()\n",
    "sample['Label']=labelencoder.fit_transform(sample.iloc[:,3].values)"
   ]
  },
  {
   "cell_type": "code",
   "execution_count": 7,
   "metadata": {},
   "outputs": [
    {
     "name": "stdout",
     "output_type": "stream",
     "text": [
      "X_train shape (130, 18482)\n",
      "X_test shape (56, 18482)\n"
     ]
    }
   ],
   "source": [
    "#  split data for train and test\n",
    "y =  sample['Label']\n",
    "X_train, X_test, y_train, y_test = train_test_split(counts,\n",
    "                                                    y,\n",
    "                                                    test_size = 0.3,random_state=132)\n",
    "                                                \n",
    "print(\"X_train shape\", X_train.shape)\n",
    "print(\"X_test shape\", X_test.shape)"
   ]
  },
  {
   "cell_type": "code",
   "execution_count": 8,
   "metadata": {},
   "outputs": [
    {
     "name": "stdout",
     "output_type": "stream",
     "text": [
      "Accuracy: 1.0\n"
     ]
    }
   ],
   "source": [
    "import xgboost as xgb\n",
    "from sklearn.metrics import accuracy_score\n",
    "\n",
    "# XGBoost classifier\n",
    "xgb_classifier = xgb.XGBClassifier(objective='multi:softmax', num_class=2, random_state=42)  #\n",
    "\n",
    "# train the XGBoost classifier\n",
    "xgb_classifier.fit(X_train, y_train)\n",
    "\n",
    "# predictions on the test set\n",
    "y_pred = xgb_classifier.predict(X_test)\n",
    "\n",
    "# evaluate the classifier\n",
    "accuracy = accuracy_score(y_test, y_pred)\n",
    "print(\"Accuracy:\", accuracy)"
   ]
  },
  {
   "cell_type": "code",
   "execution_count": null,
   "metadata": {},
   "outputs": [
    {
     "name": "stdout",
     "output_type": "stream",
     "text": [
      "bincount prediction: [33 23]\n"
     ]
    },
    {
     "data": {
      "image/png": "[encoded data removed]",
      "text/plain": [
       "<Figure size 500x500 with 1 Axes>"
      ]
     },
     "metadata": {},
     "output_type": "display_data"
    }
   ],
   "source": [
    "preds = xgb_classifier.predict(X_test)\n",
    "prediction =[]\n",
    "for i in preds:\n",
    "    if i >=0.5:\n",
    "        prediction.append(1)\n",
    "    else:\n",
    "        prediction.append(0)\n",
    "print(\"bincount prediction:\", np.bincount(prediction))\n",
    "conf_matrix = confusion_matrix(y_true = y_test, y_pred=prediction)\n",
    "\n",
    "fig, ax = plt.subplots(figsize=(5, 5))\n",
    "ax.matshow(conf_matrix, cmap=plt.cm.Reds, alpha=0.3)\n",
    "for i in range(conf_matrix.shape[0]):\n",
    "    for j in range(conf_matrix.shape[1]):\n",
    "        ax.text(x=j, y=i,s=conf_matrix[i, j], va='center', ha='center', size='xx-large')\n",
    " \n",
    "plt.xlabel('Predictions', fontsize=18)\n",
    "plt.ylabel('Actuals', fontsize=18)\n",
    "plt.title('XGBoost', fontsize=18)\n",
    "plt.show()"
   ]
  },
  {
   "cell_type": "code",
   "execution_count": null,
   "metadata": {},
   "outputs": [
    {
     "name": "stdout",
     "output_type": "stream",
     "text": [
      "Sensitivity: 1.0\n",
      "Specificity: 1.0\n"
     ]
    }
   ],
   "source": [
    "from sklearn.metrics import confusion_matrix\n",
    "\n",
    "# calculate the confusion matrix\n",
    "cm = confusion_matrix(y_test, y_pred)\n",
    "\n",
    "#true positives, false negatives, true negatives, and false positives\n",
    "tn, fp, fn, tp = cm.ravel()\n",
    "\n",
    "# sensitivity and specificity\n",
    "sensitivity = tp / (tp + fn)\n",
    "specificity = tn / (tn + fp)\n",
    "\n",
    "print(\"Sensitivity:\", sensitivity)\n",
    "print(\"Specificity:\", specificity)"
   ]
  },
  {
   "cell_type": "code",
   "execution_count": null,
   "metadata": {},
   "outputs": [
    {
     "name": "stdout",
     "output_type": "stream",
     "text": [
      "Accuracy: 1.000\n",
      "F1 Score: 1.000\n",
      "Precision: 1.000\n",
      "Recall: 1.000\n"
     ]
    }
   ],
   "source": [
    "print('Accuracy: %.3f' % accuracy_score(y_test, y_pred))\n",
    "print('F1 Score: %.3f' % f1_score(y_test, y_pred))\n",
    "print('Precision: %.3f' % precision_score(y_test, y_pred))\n",
    "print('Recall: %.3f' % recall_score(y_test, y_pred))"
   ]
  }
 ],
 "metadata": {
  "kernelspec": {
   "display_name": "base",
   "language": "python",
   "name": "python3"
  },
  "language_info": {
   "codemirror_mode": {
    "name": "ipython",
    "version": 3
   },
   "file_extension": ".py",
   "mimetype": "text/x-python",
   "name": "python",
   "nbconvert_exporter": "python",
   "pygments_lexer": "ipython3",
   "version": "3.11.5"
  }
 },
 "nbformat": 4,
 "nbformat_minor": 2
}
